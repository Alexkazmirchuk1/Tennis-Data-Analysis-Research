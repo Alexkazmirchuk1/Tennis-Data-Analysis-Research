{
 "cells": [
  {
   "cell_type": "markdown",
   "metadata": {},
   "source": [
    "# Game Flow Incorporating Momentum\n",
    "Takes in the game flow array of probabilities and modifies them according to various explanatory variables."
   ]
  },
  {
   "cell_type": "code",
   "execution_count": 1,
   "metadata": {},
   "outputs": [],
   "source": [
    "import numpy as np\n",
    "import pandas as pd\n",
    "import matplotlib.pyplot as plt\n",
    "import math\n",
    "import itertools # for shortening double-loop code.\n",
    "%matplotlib inline\n",
    "plt.style.use('ggplot')\n",
    "\n",
    "import tennis_data\n",
    "import dynamic_model1 as dm1"
   ]
  },
  {
   "cell_type": "code",
   "execution_count": 14,
   "metadata": {},
   "outputs": [
    {
     "name": "stdout",
     "output_type": "stream",
     "text": [
      "0 0\n",
      "0 1\n",
      "0 2\n",
      "0 3\n",
      "0 4\n",
      "1 0\n",
      "1 1\n",
      "1 2\n",
      "1 3\n",
      "1 4\n",
      "2 0\n",
      "2 1\n",
      "2 2\n",
      "2 3\n",
      "2 4\n",
      "3 0\n",
      "3 1\n",
      "3 2\n",
      "3 3\n",
      "3 4\n",
      "4 0\n",
      "4 1\n",
      "4 2\n",
      "4 3\n",
      "4 4\n"
     ]
    }
   ],
   "source": [
    "if False:\n",
    "    # 2023 Matches\n",
    "    raw_data = tennis_data.load_2023()\n",
    "\n",
    "if True:\n",
    "    # 2021 matches\n",
    "    raw_data = tennis_data.load_2021()\n",
    "    \n",
    "    \n",
    "if False:\n",
    "    # 2021 matches of 5 sets\n",
    "    # TODO\n",
    "    pass\n",
    "\n",
    "MATCHES_TO_EXAMINE = raw_data['match_id'].unique()\n",
    "\n",
    "num = 5\n",
    "\n",
    "rvalues = np.linspace(1, 1.8, num)\n",
    "svalues = np.linspace(0, 0.01, num)\n",
    "qvalues = np.linspace(0.01, 1, num)\n",
    "uuvalues = np.linspace(1, 1.01, num)\n",
    "ccvalues = np.linspace(0., 0.01, num)\n",
    "\n",
    "results = np.zeros( (num, num) )\n",
    "\n",
    "# CODE TO BE AUTOMATED/TESTED OVER PARAM VALUES.\n",
    "#if True: \n",
    "for i,j in itertools.product( range(num), range(num) ):\n",
    "    set1_correct = set1_total = set2_correct = set2_total = set3_correct = set3_total = set4_correct = set4_total = 0\n",
    "    \n",
    "    # \n",
    "    \n",
    "    print(i,j)\n",
    "    \n",
    "    for MATCH_TO_EXAMINE in MATCHES_TO_EXAMINE:\n",
    "        # TODO: redesign code so that files get loaded *once*, outside the loop.\n",
    "        model = dm1.DynamicTennisModel(raw_data, MATCH_TO_EXAMINE,  uuv=uuvalues[j]  , ccv=ccvalues[i])\n",
    "        model.train()\n",
    "        #if i == 0 and j == 0:\n",
    "        #     model.graph_momentum()\n",
    "        result_array = model.prediction()\n",
    "        if np.isnan(result_array[3]):\n",
    "            continue\n",
    "        try:\n",
    "            set1_correct += result_array[0]\n",
    "            set1_total += 1\n",
    "    \n",
    "            set2_correct += result_array[1]\n",
    "            set2_total += 1\n",
    "    \n",
    "            set3_correct += result_array[2]\n",
    "            set3_total += 1\n",
    "    \n",
    "            set4_correct += result_array[3]\n",
    "            set4_total += 1\n",
    "        finally:\n",
    "            continue\n",
    "    if set4_total!=0:\n",
    "        results[i,j] = set4_correct/set4_total # store prediction rate.\n",
    "    else:\n",
    "        results[i,j] = np.nan\n",
    "    \n",
    "if False:\n",
    "    print(rvalues[i], svalues[j])\n",
    "    print(f\"Predicted winner at set 2 correctly {set1_correct} / {set1_total} times\")\n",
    "    print(f\"Predicted winner at set 3 correctly {set2_correct} / {set2_total} times\")\n",
    "    print(f\"Predicted winner at set 4 correctly {set3_correct} / {set3_total} times\")\n",
    "    print(f\"Predicted winner at set 5 correctly {set4_correct} / {set4_total} times\")\n",
    "    \n",
    "    results[i,j] = set4_correct/set4_total # store prediction rate"
   ]
  },
  {
   "cell_type": "code",
   "execution_count": 15,
   "metadata": {},
   "outputs": [
    {
     "data": {
      "text/plain": [
       "<matplotlib.colorbar.Colorbar at 0x7f31a01f4a40>"
      ]
     },
     "execution_count": 15,
     "metadata": {},
     "output_type": "execute_result"
    },
    {
     "data": {
      "image/png": "[encoded data removed]",
      "text/plain": [
       "<Figure size 640x480 with 2 Axes>"
      ]
     },
     "metadata": {},
     "output_type": "display_data"
    }
   ],
   "source": [
    "# visualize results of parameter sweep.\n",
    "fig,ax = plt.subplots()\n",
    "cax = ax.pcolor(ccvalues, uuvalues, results.T)\n",
    "ax.set(xlabel='cc', ylabel='uu')\n",
    "fig.colorbar(cax)"
   ]
  },
  {
   "cell_type": "code",
   "execution_count": 4,
   "metadata": {},
   "outputs": [
    {
     "data": {
      "text/plain": [
       "array([[nan, nan, nan, nan, nan],\n",
       "       [nan, nan, nan, nan, nan],\n",
       "       [nan, nan, nan, nan, nan],\n",
       "       [nan, nan, nan, nan, nan],\n",
       "       [nan, nan, nan, nan, nan]])"
      ]
     },
     "execution_count": 4,
     "metadata": {},
     "output_type": "execute_result"
    }
   ],
   "source": [
    "results.T"
   ]
  },
  {
   "cell_type": "code",
   "execution_count": 5,
   "metadata": {},
   "outputs": [
    {
     "data": {
      "text/plain": [
       "array([1.     , 1.00125, 1.0025 , 1.00375, 1.005  ])"
      ]
     },
     "execution_count": 5,
     "metadata": {},
     "output_type": "execute_result"
    }
   ],
   "source": [
    "uuvalues"
   ]
  },
  {
   "cell_type": "code",
   "execution_count": 6,
   "metadata": {},
   "outputs": [
    {
     "data": {
      "text/plain": [
       "0"
      ]
     },
     "execution_count": 6,
     "metadata": {},
     "output_type": "execute_result"
    }
   ],
   "source": [
    "set4_total"
   ]
  },
  {
   "cell_type": "code",
   "execution_count": null,
   "metadata": {},
   "outputs": [],
   "source": []
  }
 ],
 "metadata": {
  "kernelspec": {
   "display_name": "Python 3 (ipykernel)",
   "language": "python",
   "name": "python3"
  },
  "language_info": {
   "codemirror_mode": {
    "name": "ipython",
    "version": 3
   },
   "file_extension": ".py",
   "mimetype": "text/x-python",
   "name": "python",
   "nbconvert_exporter": "python",
   "pygments_lexer": "ipython3",
   "version": "3.12.4"
  }
 },
 "nbformat": 4,
 "nbformat_minor": 4
}
