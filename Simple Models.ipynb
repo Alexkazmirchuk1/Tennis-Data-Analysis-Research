{
 "cells": [
  {
   "cell_type": "code",
   "execution_count": 1,
   "metadata": {},
   "outputs": [],
   "source": [
    "import numpy as np\n",
    "import pandas as pd\n",
    "import matplotlib.pyplot as plt\n",
    "import math\n",
    "import itertools # for shortening double-loop code.\n",
    "%matplotlib inline\n",
    "plt.style.use('ggplot')\n",
    "\n",
    "import tennis_data\n",
    "import dynamic_model1 as dm1"
   ]
  },
  {
   "cell_type": "code",
   "execution_count": 2,
   "metadata": {},
   "outputs": [],
   "source": [
    "data_raw = tennis_data.load_2021()\n",
    "MATCHES_TO_EXAMINE = data_raw['match_id'].unique()\n"
   ]
  },
  {
   "cell_type": "code",
   "execution_count": 3,
   "metadata": {},
   "outputs": [],
   "source": [
    "def points_scored(match_data, points_array, player, u= 0.001):\n",
    "    '''\n",
    "    When a player wins a set their \"points\" will increase by an exponential amount. When they lose a set their \"points\" will decrease but this change isn't as significant.\n",
    "    '''\n",
    "    # w = number of points won\n",
    "    w = 0\n",
    "\n",
    "    for index in range(len(points_array)):\n",
    "        points_victor_array = match_data['point_victor'].values\n",
    "        won_point = points_victor_array[index] == player\n",
    "\n",
    "        if (won_point):\n",
    "            w += 1\n",
    "\n",
    "        points_array[index] = points_array[index] + u*w\n",
    "        \n",
    "\n",
    "    return points_array"
   ]
  },
  {
   "cell_type": "code",
   "execution_count": 4,
   "metadata": {},
   "outputs": [],
   "source": [
    "class MarkovChain:\n",
    "    def __init__(self, file, match_to_examine):\n",
    "        raw_data = pd.read_csv(file)\n",
    "        self.match = raw_data[raw_data['match_id'] == match_to_examine]\n",
    "        self.player1_name = self.match['player1'].values[0]\n",
    "        self.player2_name = self.match['player2'].values[0]\n",
    "        self.max_length = 0\n",
    "        self.p1_momentum = []\n",
    "        self.p2_momentum = []"
   ]
  },
  {
   "cell_type": "code",
   "execution_count": null,
   "metadata": {},
   "outputs": [],
   "source": []
  }
 ],
 "metadata": {
  "kernelspec": {
   "display_name": "Python 3 (ipykernel)",
   "language": "python",
   "name": "python3"
  },
  "language_info": {
   "codemirror_mode": {
    "name": "ipython",
    "version": 3
   },
   "file_extension": ".py",
   "mimetype": "text/x-python",
   "name": "python",
   "nbconvert_exporter": "python",
   "pygments_lexer": "ipython3",
   "version": "3.12.4"
  }
 },
 "nbformat": 4,
 "nbformat_minor": 4
}
